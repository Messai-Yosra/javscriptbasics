{
  "nbformat": 4,
  "nbformat_minor": 0,
  "metadata": {
    "colab": {
      "provenance": [],
      "include_colab_link": true
    },
    "kernelspec": {
      "name": "python3",
      "display_name": "Python 3"
    },
    "language_info": {
      "name": "python"
    }
  },
  "cells": [
    {
      "cell_type": "markdown",
      "metadata": {
        "id": "view-in-github",
        "colab_type": "text"
      },
      "source": [
        "<a href=\"https://colab.research.google.com/github/Messai-Yosra/javscriptbasics/blob/main/ExercicePython.ipynb\" target=\"_parent\"><img src=\"https://colab.research.google.com/assets/colab-badge.svg\" alt=\"Open In Colab\"/></a>"
      ]
    },
    {
      "cell_type": "code",
      "execution_count": null,
      "metadata": {
        "colab": {
          "base_uri": "https://localhost:8080/"
        },
        "id": "JTwwlJx20Q2C",
        "outputId": "c393a71f-47b5-4a40-ddff-a345bf371139"
      },
      "outputs": [
        {
          "output_type": "execute_result",
          "data": {
            "text/plain": [
              "(True, 'Hello', 45)"
            ]
          },
          "metadata": {},
          "execution_count": 5
        }
      ],
      "source": [
        "x = 45\n",
        "v = \"Hello\"\n",
        "f = True\n",
        "\n",
        "f,v,x"
      ]
    },
    {
      "cell_type": "code",
      "source": [
        "v*3"
      ],
      "metadata": {
        "colab": {
          "base_uri": "https://localhost:8080/",
          "height": 36
        },
        "id": "sWQcNJvI06JX",
        "outputId": "56486d78-290c-43af-ca2c-a343b1020272"
      },
      "execution_count": null,
      "outputs": [
        {
          "output_type": "execute_result",
          "data": {
            "text/plain": [
              "'HelloHelloHello'"
            ],
            "application/vnd.google.colaboratory.intrinsic+json": {
              "type": "string"
            }
          },
          "metadata": {},
          "execution_count": 6
        }
      ]
    },
    {
      "cell_type": "code",
      "source": [
        "list = [1, 2, 3, 4, 5]\n",
        "list.append(\"test\")\n",
        "print(list)\n",
        "list.insert(2,17)\n",
        "print(list)\n",
        "list.pop(1)\n",
        "print(list)"
      ],
      "metadata": {
        "colab": {
          "base_uri": "https://localhost:8080/"
        },
        "id": "oa9Ec-RQ2y1s",
        "outputId": "7316b460-c510-42db-c6cd-fb95a9bbeaaa"
      },
      "execution_count": null,
      "outputs": [
        {
          "output_type": "stream",
          "name": "stdout",
          "text": [
            "[1, 2, 3, 4, 5, 'test']\n",
            "[1, 2, 17, 3, 4, 5, 'test']\n",
            "[1, 17, 3, 4, 5, 'test']\n"
          ]
        }
      ]
    },
    {
      "cell_type": "code",
      "source": [
        "tuple = (1,7,5, 1,1,7)\n",
        "print(tuple)\n",
        "tuple.index(5)"
      ],
      "metadata": {
        "colab": {
          "base_uri": "https://localhost:8080/"
        },
        "id": "-7vXs3R23Edv",
        "outputId": "2fdc873e-ba46-4d9d-f452-53bdc67a7552"
      },
      "execution_count": null,
      "outputs": [
        {
          "output_type": "stream",
          "name": "stdout",
          "text": [
            "(1, 7, 5, 1, 1, 7)\n"
          ]
        },
        {
          "output_type": "execute_result",
          "data": {
            "text/plain": [
              "2"
            ]
          },
          "metadata": {},
          "execution_count": 24
        }
      ]
    },
    {
      "cell_type": "code",
      "source": [
        "obj = {\n",
        "    \"id\" : 1,\n",
        "    \"prenom\"  :  \"yosra\",\n",
        "    \"nom\" : \"messai\"\n",
        "}\n",
        "\n",
        "print(obj.keys())\n",
        "obj.get(\"prenom\")"
      ],
      "metadata": {
        "colab": {
          "base_uri": "https://localhost:8080/",
          "height": 53
        },
        "id": "-CHFimLb4vdn",
        "outputId": "987c1912-6dda-4918-c75b-cfe89c7f5fa5"
      },
      "execution_count": null,
      "outputs": [
        {
          "output_type": "stream",
          "name": "stdout",
          "text": [
            "dict_keys(['id', 'prenom', 'nom'])\n"
          ]
        },
        {
          "output_type": "execute_result",
          "data": {
            "text/plain": [
              "'yosra'"
            ],
            "application/vnd.google.colaboratory.intrinsic+json": {
              "type": "string"
            }
          },
          "metadata": {},
          "execution_count": 30
        }
      ]
    },
    {
      "cell_type": "code",
      "source": [
        "if 4==5:\n",
        "  print(\"equal\")\n",
        "elif 3==3:\n",
        "  print(\"nice\")\n",
        "else:\n",
        "  print(\"false\")\n"
      ],
      "metadata": {
        "colab": {
          "base_uri": "https://localhost:8080/"
        },
        "id": "ZY-kvry0NKc4",
        "outputId": "d509b100-6c32-458a-d8f0-2477c00cbe3d"
      },
      "execution_count": null,
      "outputs": [
        {
          "output_type": "stream",
          "name": "stdout",
          "text": [
            "nice\n"
          ]
        }
      ]
    },
    {
      "cell_type": "code",
      "source": [
        "def greetings(nom):\n",
        "  return 10\n",
        "\n",
        "\n",
        "x = greetings(\"Yosra\")\n"
      ],
      "metadata": {
        "colab": {
          "base_uri": "https://localhost:8080/"
        },
        "id": "9XC1RwuEOL8s",
        "outputId": "eb5ddc7a-2b71-4df8-e46b-48dddf18f415"
      },
      "execution_count": null,
      "outputs": [
        {
          "output_type": "execute_result",
          "data": {
            "text/plain": [
              "10"
            ]
          },
          "metadata": {},
          "execution_count": 36
        }
      ]
    },
    {
      "cell_type": "code",
      "source": [
        "### EXERCICE ###\n",
        "student_data = {\n",
        "    \"Alice\": (20, [85.5, 90.0, 78.5]),\n",
        "    \"Bob\": (22, [76.0, 88.5, 92.0]),\n",
        "    \"Charlie\": (19, [95.0, 89.5, 91.5])\n",
        "}"
      ],
      "metadata": {
        "id": "Pb6XK4zLO5uw"
      },
      "execution_count": null,
      "outputs": []
    },
    {
      "cell_type": "code",
      "source": [
        "### QUESTION 1 : PRINT EVERY STUDENT'S MARKS\n",
        "student_data.get(\"Alice\")[1]\n",
        "\n",
        "### QUESTION 2 :\n",
        "for i in student_data:\n",
        "  print(student_data.get(i)[1])\n",
        "\n",
        "\n"
      ],
      "metadata": {
        "colab": {
          "base_uri": "https://localhost:8080/"
        },
        "id": "-IMR1PXMRJ62",
        "outputId": "f9c62ec8-85af-4baa-b0e3-492d5063e1e4"
      },
      "execution_count": null,
      "outputs": [
        {
          "output_type": "stream",
          "name": "stdout",
          "text": [
            "[85.5, 90.0, 78.5]\n",
            "[76.0, 88.5, 92.0]\n",
            "[95.0, 89.5, 91.5]\n"
          ]
        }
      ]
    },
    {
      "cell_type": "code",
      "source": [
        "###student_data[\"Yosra\"] = (22, [90, 4, 1])\n",
        "student_data"
      ],
      "metadata": {
        "colab": {
          "base_uri": "https://localhost:8080/"
        },
        "id": "uXFCDp-cRofd",
        "outputId": "6492341f-220d-4dc9-b399-ed51f2d53713"
      },
      "execution_count": null,
      "outputs": [
        {
          "output_type": "execute_result",
          "data": {
            "text/plain": [
              "{'Alice': (20, [85.5, 90.0, 78.5]),\n",
              " 'Bob': (22, [76.0, 88.5, 92.0]),\n",
              " 'Charlie': (19, [95.0, 89.5, 91.5])}"
            ]
          },
          "metadata": {},
          "execution_count": 54
        }
      ]
    },
    {
      "cell_type": "code",
      "source": [
        "###  Step 3: Calculate and print the average grade for each student\n",
        "for i in student_data:\n",
        "  x = student_data.get(i)[1]\n",
        "  total = 0.0\n",
        "  count = 0\n",
        "  for j in x:\n",
        "    count = count + 1\n",
        "    total = total + j\n",
        "\n",
        "  print(total/count)\n",
        "\n"
      ],
      "metadata": {
        "colab": {
          "base_uri": "https://localhost:8080/"
        },
        "id": "3oG2Kj8BT0xj",
        "outputId": "b80d21ac-e59c-4f5c-8584-d60b2481671b"
      },
      "execution_count": null,
      "outputs": [
        {
          "output_type": "stream",
          "name": "stdout",
          "text": [
            "84.66666666666667\n",
            "85.5\n",
            "92.0\n"
          ]
        }
      ]
    },
    {
      "cell_type": "code",
      "source": [],
      "metadata": {
        "id": "LMC7GEImUzwk"
      },
      "execution_count": null,
      "outputs": []
    }
  ]
}